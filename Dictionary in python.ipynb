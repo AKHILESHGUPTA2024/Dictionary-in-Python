{
 "cells": [
  {
   "cell_type": "markdown",
   "metadata": {},
   "source": [
    "### Dictionary in Python\n",
    "###### A Dictionary is a composite data structure which holds your data in KEY:PAIR form. A Dictionary is an ordered, changeable and do not allow duplicate"
   ]
  },
  {
   "cell_type": "markdown",
   "metadata": {},
   "source": [
    "##### Create"
   ]
  },
  {
   "cell_type": "code",
   "execution_count": 4,
   "metadata": {},
   "outputs": [
    {
     "data": {
      "text/plain": [
       "{'Name': 'John', 'Age': 32, 'Gender': 'Male', 'Income': '$3839'}"
      ]
     },
     "execution_count": 4,
     "metadata": {},
     "output_type": "execute_result"
    }
   ],
   "source": [
    "# an empty dictionary\n",
    "dic ={}\n",
    "# dictionary with items\n",
    "dic ={'Name':'John','Age':32,'Gender':'Male','Income':'$394'}\n",
    "# dictionary using tuples and dict constructor\n",
    "dic =dict([('Name','John'),('Age',32),('Gender','Male'),('Income','$595')])\n",
    "# dictionary using dict constructor\n",
    "dic = dict({'Name':'John','Age':32,'Gender':'Male','Income':'$3839'})\n"
   ]
  },
  {
   "cell_type": "markdown",
   "metadata": {},
   "source": [
    "##### Access items"
   ]
  },
  {
   "cell_type": "code",
   "execution_count": 13,
   "metadata": {},
   "outputs": [
    {
     "data": {
      "text/plain": [
       "dict"
      ]
     },
     "execution_count": 13,
     "metadata": {},
     "output_type": "execute_result"
    }
   ],
   "source": [
    "dic['Name']\n",
    "dic.get('Name')\n",
    "dic.keys()\n",
    "dic.values()\n",
    "dic.items()\n",
    "len(dic)\n",
    "type(dic)"
   ]
  },
  {
   "cell_type": "markdown",
   "metadata": {},
   "source": [
    "##### Change items"
   ]
  },
  {
   "cell_type": "code",
   "execution_count": 15,
   "metadata": {},
   "outputs": [
    {
     "data": {
      "text/plain": [
       "{'A': 1, 'B': 2, 'C': 3, 'D': 4}"
      ]
     },
     "execution_count": 15,
     "metadata": {},
     "output_type": "execute_result"
    }
   ],
   "source": [
    "dic['Name']='Bob'\n",
    "dic.update({'Age':50})\n",
    "# in case you have multiple dictionaries and you want to update into one dictionary like\n",
    "a={'A':1,'B':2}\n",
    "b={'C':3,'D':4}\n",
    "a.update(b)\n",
    "a\n"
   ]
  },
  {
   "cell_type": "markdown",
   "metadata": {},
   "source": [
    "##### Remove items"
   ]
  },
  {
   "cell_type": "code",
   "execution_count": 27,
   "metadata": {},
   "outputs": [
    {
     "data": {
      "text/plain": [
       "{}"
      ]
     },
     "execution_count": 27,
     "metadata": {},
     "output_type": "execute_result"
    }
   ],
   "source": [
    "# dic.pop('Age')\n",
    "# # lets create a dictionary\n",
    "dic1 = {'name':['John','Maria','Suzanen'],'Age':[32,34,56],'Gender':'Male','Income':\"$9393\"}\n",
    "dic1.popitem()\n",
    "del dic1['Gender']\n",
    "dic1.clear()\n",
    "dic1"
   ]
  },
  {
   "cell_type": "markdown",
   "metadata": {},
   "source": [
    "##### Looping items of a dictionary"
   ]
  },
  {
   "cell_type": "code",
   "execution_count": 36,
   "metadata": {},
   "outputs": [
    {
     "name": "stdout",
     "output_type": "stream",
     "text": [
      "Name\n",
      "Gender\n",
      "Income\n",
      "Name\n",
      "Gender\n",
      "Income\n",
      "Bob\n",
      "Male\n",
      "$3839\n",
      "Bob\n",
      "Male\n",
      "$3839\n",
      "Name Bob\n",
      "Gender Male\n",
      "Income $3839\n"
     ]
    }
   ],
   "source": [
    "# display all keys\n",
    "for x in dic:\n",
    "    print(x)\n",
    "#OR \n",
    "for x in dic.keys():\n",
    "    print(x)\n",
    "\n",
    "# display all values\n",
    "for x in dic:\n",
    "    print(dic[x])\n",
    "#OR\n",
    "for x in dic.values():\n",
    "    print(x)\n",
    "\n",
    "# display all keys and values together\n",
    "for x,y in dic.items():\n",
    "    print(x,y)"
   ]
  },
  {
   "cell_type": "markdown",
   "metadata": {},
   "source": [
    "##### Nested dictionary"
   ]
  },
  {
   "cell_type": "code",
   "execution_count": 39,
   "metadata": {},
   "outputs": [
    {
     "data": {
      "text/plain": [
       "12"
      ]
     },
     "execution_count": 39,
     "metadata": {},
     "output_type": "execute_result"
    }
   ],
   "source": [
    "myfamily = {\n",
    "    'Child1':{'Name':'Raju','Age':12,'Gender':'Male'},\n",
    "    'Child2':{'Name':'Ganesh','Age':17,'Gender':'Male'},\n",
    "    'Child3':{'Name':'Suresh','Age':19,'Gender':'Male'}\n",
    "}\n",
    "myfamily\n",
    "# if you want to access a particular item\n",
    "myfamily['Child1']\n",
    "myfamily['Child1']['Age']"
   ]
  }
 ],
 "metadata": {
  "kernelspec": {
   "display_name": "Python 3",
   "language": "python",
   "name": "python3"
  },
  "language_info": {
   "codemirror_mode": {
    "name": "ipython",
    "version": 3
   },
   "file_extension": ".py",
   "mimetype": "text/x-python",
   "name": "python",
   "nbconvert_exporter": "python",
   "pygments_lexer": "ipython3",
   "version": "3.12.3"
  }
 },
 "nbformat": 4,
 "nbformat_minor": 2
}
